{
 "cells": [
  {
   "cell_type": "markdown",
   "metadata": {},
   "source": [
    "Working Code"
   ]
  },
  {
   "cell_type": "code",
   "execution_count": 1,
   "metadata": {},
   "outputs": [
    {
     "name": "stderr",
     "output_type": "stream",
     "text": [
      "Using TensorFlow backend.\n"
     ]
    }
   ],
   "source": [
    "import pandas as pd\n",
    "from keras.models import Sequential\n",
    "from keras.layers import Dense, Activation\n",
    "from keras.utils import np_utils\n",
    "from sklearn import metrics\n",
    "import numpy as np"
   ]
  },
  {
   "cell_type": "code",
   "execution_count": 2,
   "metadata": {},
   "outputs": [],
   "source": [
    "#load train csv file and convert to values\n",
    "#changed string value to numeric\n",
    "#'Iris-setosa' to 0\n",
    "#'Iris-versicolor' to 1\n",
    "#'Iris-virginica' to 2\n",
    "\n",
    "xls = pd.ExcelFile('C:/Users/Amit/Desktop/Embedded Vision 2/lab 3/iris_train.csv')\n",
    "datatrain = pd.read_excel(xls, 'Sheet1')\n",
    "datatrain.values\n",
    "\n",
    "datatrain = datatrain.apply(pd.to_numeric)\n",
    "\n",
    "#change dataframe to array\n",
    "datatrain_array = datatrain.as_matrix()\n",
    "\n",
    "#split x and y (feature and target)\n",
    "xtrain = datatrain_array[:,:4]\n",
    "ytrain = datatrain_array[:,4]\n"
   ]
  },
  {
   "cell_type": "code",
   "execution_count": 3,
   "metadata": {},
   "outputs": [],
   "source": [
    "#load test data\n",
    "xls = pd.ExcelFile('C:/Users/Amit/Desktop/Embedded Vision 2/lab 3/iris_test.csv')\n",
    "datatest = pd.read_excel(xls, 'Sheet1')\n",
    "datatest.values\n",
    "\n",
    "datatest = datatest.apply(pd.to_numeric)\n",
    "\n",
    "#change dataframe to array\n",
    "datatest_array = datatest.as_matrix()\n",
    "\n",
    "#split x and y (feature and target)\n",
    "xtest = datatest_array[:,:4]\n",
    "ytest = datatest_array[:,4]"
   ]
  },
  {
   "cell_type": "code",
   "execution_count": 4,
   "metadata": {},
   "outputs": [],
   "source": [
    "#change target format\n",
    "ytrain = np_utils.to_categorical(ytrain)"
   ]
  },
  {
   "cell_type": "code",
   "execution_count": 5,
   "metadata": {
    "collapsed": true
   },
   "outputs": [],
   "source": [
    "\n",
    "# create model\n",
    "model = Sequential()\n",
    "model.add(Dense(8, input_dim=4, activation='sigmoid'))\n",
    "model.add(Dense(3, activation='sigmoid'))\n"
   ]
  },
  {
   "cell_type": "code",
   "execution_count": 6,
   "metadata": {},
   "outputs": [
    {
     "name": "stdout",
     "output_type": "stream",
     "text": [
      "Epoch 1/20\n",
      "120/120 [==============================] - 0s - loss: 1.1398 - acc: 0.3083\n",
      "Epoch 2/20\n",
      "120/120 [==============================] - 0s - loss: 1.1396 - acc: 0.3083\n",
      "Epoch 3/20\n",
      "120/120 [==============================] - 0s - loss: 1.1394 - acc: 0.3083\n",
      "Epoch 4/20\n",
      "120/120 [==============================] - 0s - loss: 1.1392 - acc: 0.3083\n",
      "Epoch 5/20\n",
      "120/120 [==============================] - 0s - loss: 1.1389 - acc: 0.3083\n",
      "Epoch 6/20\n",
      "120/120 [==============================] - 0s - loss: 1.1387 - acc: 0.3083\n",
      "Epoch 7/20\n",
      "120/120 [==============================] - 0s - loss: 1.1385 - acc: 0.3083\n",
      "Epoch 8/20\n",
      "120/120 [==============================] - 0s - loss: 1.1382 - acc: 0.3083\n",
      "Epoch 9/20\n",
      "120/120 [==============================] - 0s - loss: 1.1380 - acc: 0.3083\n",
      "Epoch 10/20\n",
      "120/120 [==============================] - 0s - loss: 1.1378 - acc: 0.3083\n",
      "Epoch 11/20\n",
      "120/120 [==============================] - 0s - loss: 1.1376 - acc: 0.3083\n",
      "Epoch 12/20\n",
      "120/120 [==============================] - 0s - loss: 1.1373 - acc: 0.3083\n",
      "Epoch 13/20\n",
      "120/120 [==============================] - 0s - loss: 1.1371 - acc: 0.3083\n",
      "Epoch 14/20\n",
      "120/120 [==============================] - 0s - loss: 1.1369 - acc: 0.3083\n",
      "Epoch 15/20\n",
      "120/120 [==============================] - 0s - loss: 1.1367 - acc: 0.3083\n",
      "Epoch 16/20\n",
      "120/120 [==============================] - 0s - loss: 1.1365 - acc: 0.3083\n",
      "Epoch 17/20\n",
      "120/120 [==============================] - 0s - loss: 1.1362 - acc: 0.3083\n",
      "Epoch 18/20\n",
      "120/120 [==============================] - 0s - loss: 1.1360 - acc: 0.3083\n",
      "Epoch 19/20\n",
      "120/120 [==============================] - 0s - loss: 1.1358 - acc: 0.3083\n",
      "Epoch 20/20\n",
      "120/120 [==============================] - 0s - loss: 1.1356 - acc: 0.3083\n",
      "INPUT-HIDDEN LAYER WEIGHTS:\n",
      "[[-0.64544362  0.24776067 -0.44466573  0.41626573  0.00074178 -0.39349568\n",
      "  -0.4219141  -0.12041155]\n",
      " [ 0.39794415 -0.48617676  0.57484698 -0.25237304 -0.27224895 -0.14649643\n",
      "  -0.45657104  0.29868507]\n",
      " [-0.27660325  0.17246844  0.61423588 -0.60082388  0.59400141 -0.38638058\n",
      "  -0.31726855  0.48159301]\n",
      " [ 0.29274493  0.12560919  0.64972055 -0.24852222 -0.11235639 -0.00083459\n",
      "  -0.16717499 -0.33309186]]\n",
      "HIDDEN-OUTPUT LAYER WEIGHTS:\n",
      "[[-0.19693582  0.08345865  0.08603011]\n",
      " [-0.02951003 -0.39165553 -0.61429256]\n",
      " [ 0.46623275  0.10749121 -0.21505378]\n",
      " [ 0.37932813  0.26303166  0.7195425 ]\n",
      " [ 0.12457296  0.6470241   0.7143091 ]\n",
      " [-0.6249401   0.59610218 -0.1811948 ]\n",
      " [-0.53852344 -0.67398137 -0.69279331]\n",
      " [ 0.59779847  0.53247607 -0.15440403]]\n"
     ]
    }
   ],
   "source": [
    "#choose optimizer and loss function\n",
    "model.compile(loss='categorical_crossentropy', optimizer='sgd', metrics=['accuracy'])\n",
    "\n",
    "#train the model\n",
    "model.fit(xtrain, ytrain, epochs=20, batch_size=120)\n",
    "\n",
    "#get weights\n",
    "Weights_IH = model.layers[0].get_weights()[0]\n",
    "Weights_HO = model.layers[1].get_weights()[0]\n",
    "\n",
    "print('INPUT-HIDDEN LAYER WEIGHTS:')\n",
    "print(Weights_IH)\n",
    "print('HIDDEN-OUTPUT LAYER WEIGHTS:')\n",
    "print(Weights_HO)"
   ]
  },
  {
   "cell_type": "code",
   "execution_count": 7,
   "metadata": {},
   "outputs": [
    {
     "name": "stdout",
     "output_type": "stream",
     "text": [
      "30/30 [==============================] - 0s\n",
      "\n",
      "prediction is : [0 0 0 0 0 0 0 0 0 0 0 0 0 0 0 0 0 0 0 0 0 0 0 0 0 0 0 0 0 0]\n",
      "Confusion matrix: \n",
      " [[13  6 11]\n",
      " [ 0  0  0]\n",
      " [ 0  0  0]]\n",
      "accuracy is: 0.433333333333 \n"
     ]
    }
   ],
   "source": [
    "# Get prediction\n",
    "yPred = model.predict_classes(xtest, batch_size=120)\n",
    "print(\"\\nprediction is :\",yPred)\n",
    "\n",
    "# Print Confusion Matrix and accuracy\n",
    "cm=np.asarray(metrics.confusion_matrix(yPred,ytest))\n",
    "cm=cm.reshape(3,3)\n",
    "print(\"Confusion matrix: \\n\" ,cm)\n",
    "print(\"accuracy is: %s \" % metrics.accuracy_score(yPred,ytest))"
   ]
  },
  {
   "cell_type": "code",
   "execution_count": null,
   "metadata": {
    "collapsed": true
   },
   "outputs": [],
   "source": []
  },
  {
   "cell_type": "code",
   "execution_count": null,
   "metadata": {
    "collapsed": true
   },
   "outputs": [],
   "source": []
  }
 ],
 "metadata": {
  "kernelspec": {
   "display_name": "Python 3",
   "language": "python",
   "name": "python3"
  },
  "language_info": {
   "codemirror_mode": {
    "name": "ipython",
    "version": 3
   },
   "file_extension": ".py",
   "mimetype": "text/x-python",
   "name": "python",
   "nbconvert_exporter": "python",
   "pygments_lexer": "ipython3",
   "version": "3.5.4"
  }
 },
 "nbformat": 4,
 "nbformat_minor": 2
}
